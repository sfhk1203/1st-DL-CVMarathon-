{
 "cells": [
  {
   "cell_type": "code",
   "execution_count": null,
   "metadata": {},
   "outputs": [],
   "source": [
    "\"我認為機械學習裡的深度學習是有很大的潛力，讓機械去學習，這一聽就是一件很酷的事情，我們可以讓電腦去玩遊戲、學畫畫、下棋等等，未來應用在人工智慧上，想像一下，機器人手把手的傳授給我們知識，或是在家育兒，這些都是有可能發生的事情\"\n"
   ]
  }
 ],
 "metadata": {
  "kernelspec": {
   "display_name": "Python 3",
   "language": "python",
   "name": "python3"
  },
  "language_info": {
   "codemirror_mode": {
    "name": "ipython",
    "version": 3
   },
   "file_extension": ".py",
   "mimetype": "text/x-python",
   "name": "python",
   "nbconvert_exporter": "python",
   "pygments_lexer": "ipython3",
   "version": "3.8.5"
  }
 },
 "nbformat": 4,
 "nbformat_minor": 4
}
